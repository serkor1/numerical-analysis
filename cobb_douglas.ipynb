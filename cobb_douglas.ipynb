{
 "cells": [
  {
   "cell_type": "markdown",
   "source": [
    "# Maximizing Cobb-Douglas Utility Function\n",
    "\n",
    "> This notebook is just a testing\n",
    "> for various `python`-programs and -functions"
   ],
   "metadata": {
    "collapsed": false
   },
   "id": "1d4be3902f407933"
  },
  {
   "cell_type": "code",
   "outputs": [],
   "source": [
    "# import modules\n",
    "from scipy.optimize import minimize\n",
    "\n",
    "# import local modules\n",
    "import cobb_douglas_module as cobb_douglas"
   ],
   "metadata": {
    "collapsed": false,
    "ExecuteTime": {
     "end_time": "2024-02-06T13:06:30.905070800Z",
     "start_time": "2024-02-06T13:06:30.895442200Z"
    }
   },
   "id": "8724ddcb6303d4bb",
   "execution_count": 6
  },
  {
   "cell_type": "markdown",
   "source": [
    "## Define parameters"
   ],
   "metadata": {
    "collapsed": false
   },
   "id": "a969de227b6e0c"
  },
  {
   "cell_type": "code",
   "outputs": [],
   "source": [
    "# Parameters\n",
    "alpha = 0.5  # Elasticities of utility\n",
    "p1, p2 = 2, 3  # Prices of goods x1 and x2\n",
    "income = 100  # Income\n",
    "\n",
    "# Constraints\n",
    "cons = ({\n",
    "        'type': 'eq',\n",
    "        'fun': cobb_douglas.budget_constraint,\n",
    "        'args': (p1, p2, income)\n",
    "    })\n",
    "\n",
    "# Initial guesses for quantities of x1 and x2\n",
    "x0 = [10, 10]"
   ],
   "metadata": {
    "collapsed": false,
    "ExecuteTime": {
     "end_time": "2024-02-06T13:06:30.906071Z",
     "start_time": "2024-02-06T13:06:30.898946100Z"
    }
   },
   "id": "67b8640d6b524df3",
   "execution_count": 7
  },
  {
   "cell_type": "markdown",
   "source": [
    "## Minimize the objective function"
   ],
   "metadata": {
    "collapsed": false
   },
   "id": "4f3463e0297f7624"
  },
  {
   "cell_type": "code",
   "outputs": [],
   "source": [
    "# Use 'SLSQP' method for constrained optimization\n",
    "result = minimize(\n",
    "    cobb_douglas.utility,\n",
    "    x0,\n",
    "    args=(alpha), \n",
    "    constraints=cons,\n",
    "    method='SLSQP'\n",
    ")"
   ],
   "metadata": {
    "collapsed": false,
    "ExecuteTime": {
     "end_time": "2024-02-06T13:06:30.912779200Z",
     "start_time": "2024-02-06T13:06:30.907071300Z"
    }
   },
   "id": "d6130d2a8aac3e5c",
   "execution_count": 8
  },
  {
   "cell_type": "markdown",
   "source": [
    "## Display the results"
   ],
   "metadata": {
    "collapsed": false
   },
   "id": "3369ab6476c612d7"
  },
  {
   "cell_type": "code",
   "outputs": [
    {
     "name": "stdout",
     "output_type": "stream",
     "text": [
      "Optimized quantities: x = 24.999377724987408, y = 16.66708151667506\n",
      "Maximized Utility: 20.412414516869774\n"
     ]
    }
   ],
   "source": [
    "\n",
    "# Display the result\n",
    "if result.success:\n",
    "    optimized_quantities = result.x\n",
    "    print(f\"Optimized quantities: x = {optimized_quantities[0]}, y = {optimized_quantities[1]}\")\n",
    "    print(f\"Maximized Utility: {-1 * result.fun}\")\n",
    "else:\n",
    "    print(\"Optimization was not successful.\")"
   ],
   "metadata": {
    "collapsed": false,
    "ExecuteTime": {
     "end_time": "2024-02-06T13:06:30.943336200Z",
     "start_time": "2024-02-06T13:06:30.911778700Z"
    }
   },
   "id": "b89bb10f4085695a",
   "execution_count": 9
  }
 ],
 "metadata": {
  "kernelspec": {
   "display_name": "Python 3",
   "language": "python",
   "name": "python3"
  },
  "language_info": {
   "codemirror_mode": {
    "name": "ipython",
    "version": 2
   },
   "file_extension": ".py",
   "mimetype": "text/x-python",
   "name": "python",
   "nbconvert_exporter": "python",
   "pygments_lexer": "ipython2",
   "version": "2.7.6"
  }
 },
 "nbformat": 4,
 "nbformat_minor": 5
}
